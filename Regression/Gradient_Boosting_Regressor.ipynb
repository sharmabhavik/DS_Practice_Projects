{
 "cells": [
  {
   "cell_type": "code",
   "execution_count": null,
   "id": "29f02b63-c6e4-4667-b16b-3c485c9613f6",
   "metadata": {},
   "outputs": [],
   "source": [
    "import numpy as np\n",
    "import pandas as pd\n",
    "import seaborn as sns\n",
    "import matplotlib.pyplot as plt\n",
    "import warnings\n",
    "warnings.filterwarnings('ignore')"
   ]
  },
  {
   "cell_type": "code",
   "execution_count": null,
   "id": "b0d804df-fd7e-40d7-a83a-014b60b1badc",
   "metadata": {},
   "outputs": [],
   "source": [
    "data = pd.read_csv(\"insurance.csv\")"
   ]
  },
  {
   "cell_type": "code",
   "execution_count": null,
   "id": "31cd9210-33c0-4b35-8368-87fa401beeb3",
   "metadata": {},
   "outputs": [],
   "source": [
    "data"
   ]
  },
  {
   "cell_type": "markdown",
   "id": "ecac2df8-139c-4b37-b05e-eedc0b9e70db",
   "metadata": {},
   "source": [
    "# Basic Check :- Data Insights :-"
   ]
  },
  {
   "cell_type": "code",
   "execution_count": null,
   "id": "72429ffa-b08f-4d4c-b653-2425d5617a99",
   "metadata": {},
   "outputs": [],
   "source": [
    "data.describe()"
   ]
  },
  {
   "cell_type": "markdown",
   "id": "5798471c-ac57-4a60-b218-a01510833201",
   "metadata": {},
   "source": [
    "# Insights :- Numerical Column Insights\n",
    "\n",
    "## Insights from Age Column:-\n",
    "  - We can see that average age of patients is 39 with standard deviation of 14.04\n",
    "  - Maximum age of Patient is 64\n",
    "  - Range is from 18 to 64 mainly older patients are seen more.\n",
    "\n",
    "## Insights from BMI Column:-\n",
    " - We can see that average bmi of patient is 30 with std devn of 1.20\n",
    " - Individuals with 1 child (the median) are typically charged around $9,382.\n",
    " - std devn of bmi is 6.09\n",
    " - bmi ranges from 15.96 to 53.13\n",
    "\n",
    "## Insights from Children Column:-\n",
    " - Mostly 1 or 2 children is coming as a patient\n",
    "\n",
    "## Insights from Charges column is :-\n",
    " - Minimum charges paid by Patient is $1121\n",
    " - Average Charges paid by Patient is 13270 with std devn of 12110"
   ]
  },
  {
   "cell_type": "code",
   "execution_count": null,
   "id": "35906d9b-e99a-4560-bfee-1f75181bc3b6",
   "metadata": {},
   "outputs": [],
   "source": [
    "data.describe(include = 'O')"
   ]
  },
  {
   "cell_type": "markdown",
   "id": "3d4db28c-577c-4158-b771-d602f28668ef",
   "metadata": {},
   "source": [
    "# Insights :- Categorical Column Insights\n",
    "\n",
    "## Insights from Sex :-\n",
    "  - There are total **1338 patients**\n",
    "  - **Mostly Male Patients** are there\n",
    "  - **676 Male patients** are there\n",
    "\n",
    "## Insights from Smoker :-\n",
    "  - Mostly **Non-smoker patients** are there\n",
    "  - Out of **1338**, **1064** Patients are **Non-Smoker**\n",
    "\n",
    "## Insights from Region :- \n",
    "  - Mostly Patients are from **Southeast region**\n",
    "  - There are **364 patients from SouthEast Region**\n",
    "  - There are **4 different Regions**"
   ]
  },
  {
   "cell_type": "markdown",
   "id": "978edabe-963c-4361-8cb1-4bc1266f76cb",
   "metadata": {},
   "source": [
    "## Checking for outliers :-"
   ]
  },
  {
   "cell_type": "code",
   "execution_count": null,
   "id": "fe52284b-77a1-4f66-a1cb-e0b4b889b62d",
   "metadata": {
    "scrolled": true
   },
   "outputs": [],
   "source": [
    "plt.figure(figsize=(30, 5))\n",
    "plot_num = 1\n",
    "flierprops = dict(marker='o', markerfacecolor='green', markersize=10)\n",
    "\n",
    "for i in data.select_dtypes(include='number'):\n",
    "    if plot_num <= 7:\n",
    "        plt.subplot(1, 7, plot_num)\n",
    "        plt.boxplot(data[i], flierprops=flierprops)\n",
    "        plt.title(i, fontsize=18)\n",
    "        plt.ylabel(i, fontsize=18)\n",
    "        plot_num += 1\n",
    "\n",
    "plt.tight_layout()\n",
    "plt.show()"
   ]
  },
  {
   "cell_type": "code",
   "execution_count": null,
   "id": "44efd67d-2e3f-4196-abab-e8ddae7c593a",
   "metadata": {},
   "outputs": [],
   "source": [
    "# We can see that Outliers are present in BMI & Charges"
   ]
  },
  {
   "cell_type": "markdown",
   "id": "13bca4c6-2a0a-4a90-9c42-0f9dad2d4a7e",
   "metadata": {},
   "source": [
    "# BMI"
   ]
  },
  {
   "cell_type": "code",
   "execution_count": null,
   "id": "22347b0f-2ef5-4d01-9cb5-db94aab2382b",
   "metadata": {},
   "outputs": [],
   "source": [
    "q1 = data['bmi'].quantile(0.25)\n",
    "q2 = data['bmi'].quantile(0.50)\n",
    "q3 = data['bmi'].quantile(0.75)\n",
    "iqr = q3 - q1\n",
    "lb = q1 - 1.5*iqr\n",
    "ub = q3 + 1.5*iqr\n",
    "\n",
    "print(q1)\n",
    "print(q2)\n",
    "print(q3)\n",
    "print(iqr)\n",
    "print(lb)\n",
    "print(ub)"
   ]
  },
  {
   "cell_type": "code",
   "execution_count": null,
   "id": "52b02079-249d-4995-bfb1-33cde741fd1b",
   "metadata": {},
   "outputs": [],
   "source": [
    "# len(data.loc[data['bmi']>ub,\"bmi\"])/len(data)"
   ]
  },
  {
   "cell_type": "code",
   "execution_count": null,
   "id": "402d89ed-f982-41ae-92bf-4661658a0489",
   "metadata": {},
   "outputs": [],
   "source": [
    "# data.loc[data['bmi']>ub,\"bmi\"] = data[\"bmi\"].median()"
   ]
  },
  {
   "cell_type": "code",
   "execution_count": null,
   "id": "87e59acb-8362-4c07-a817-6c30a1d41888",
   "metadata": {},
   "outputs": [],
   "source": [
    "# data.loc[data['bmi']>ub,\"bmi\"]"
   ]
  },
  {
   "cell_type": "code",
   "execution_count": null,
   "id": "d3febaa6-bb00-4efd-8120-4073dbc1ba31",
   "metadata": {},
   "outputs": [],
   "source": [
    "# data.loc[data['bmi']<lb,\"bmi\"]"
   ]
  },
  {
   "cell_type": "code",
   "execution_count": null,
   "id": "a28ace98-78d8-4cae-8fa0-3cdfa5984024",
   "metadata": {},
   "outputs": [],
   "source": []
  },
  {
   "cell_type": "markdown",
   "id": "d81499ce-f4d4-4e90-a02e-28251809fa8e",
   "metadata": {},
   "source": [
    "# Charges :- "
   ]
  },
  {
   "cell_type": "code",
   "execution_count": null,
   "id": "7527def5-73f7-478b-9bef-f45b34f6a42d",
   "metadata": {},
   "outputs": [],
   "source": [
    "q1 = data['charges'].quantile(0.25)\n",
    "q2 = data['charges'].quantile(0.50)\n",
    "q3 = data['charges'].quantile(0.75)\n",
    "iqr = q3 - q1\n",
    "lb = q1 - 1.5*iqr\n",
    "ub = q3 + 1.5*iqr\n",
    "\n",
    "print(q1)\n",
    "print(q2)\n",
    "print(q3)\n",
    "print(iqr)\n",
    "print(lb)\n",
    "print(ub)"
   ]
  },
  {
   "cell_type": "code",
   "execution_count": null,
   "id": "2478fe14-a802-4c5d-992a-787ccc91e141",
   "metadata": {},
   "outputs": [],
   "source": [
    "# len(data.loc[data['charges']>ub,\"charges\"])/len(data)"
   ]
  },
  {
   "cell_type": "code",
   "execution_count": null,
   "id": "bf9971a7-159c-40d4-a22b-2d6905f499bb",
   "metadata": {},
   "outputs": [],
   "source": []
  },
  {
   "cell_type": "markdown",
   "id": "0e344f48-7eb7-45a7-8429-b101d8ebe83c",
   "metadata": {},
   "source": [
    "# EDA :-"
   ]
  },
  {
   "cell_type": "markdown",
   "id": "17177210-8102-4f87-8722-0ebec66acbdf",
   "metadata": {},
   "source": [
    "## Univariate Analysis :-"
   ]
  },
  {
   "cell_type": "code",
   "execution_count": null,
   "id": "f4864a06-72ae-4210-a508-bf59cf15ff31",
   "metadata": {},
   "outputs": [],
   "source": [
    "for i in data:\n",
    "    print(i)"
   ]
  },
  {
   "cell_type": "code",
   "execution_count": null,
   "id": "26d1b762-4ec4-42dc-aaac-9ca6e11158ee",
   "metadata": {},
   "outputs": [],
   "source": [
    "sns.histplot(x = data['age'])"
   ]
  },
  {
   "cell_type": "code",
   "execution_count": null,
   "id": "b882c1ab-1250-4bd6-afe7-49612c7852c6",
   "metadata": {},
   "outputs": [],
   "source": [
    "sns.histplot(x = data['bmi'])"
   ]
  },
  {
   "cell_type": "code",
   "execution_count": null,
   "id": "c61fb2cd-50cf-4385-a7e4-e251ce7f44d2",
   "metadata": {},
   "outputs": [],
   "source": [
    "sns.histplot(x = data['charges'])"
   ]
  },
  {
   "cell_type": "code",
   "execution_count": null,
   "id": "81600795-cf43-412f-a009-8b09ac6bd6bd",
   "metadata": {},
   "outputs": [],
   "source": []
  },
  {
   "cell_type": "markdown",
   "id": "20392ca4-78ab-49ea-87d1-4974213b6a92",
   "metadata": {},
   "source": [
    "## Bivariate Analysis :-"
   ]
  },
  {
   "cell_type": "code",
   "execution_count": null,
   "id": "0aee9166-606b-4296-9b4b-f0f5965231e1",
   "metadata": {},
   "outputs": [],
   "source": [
    "sns.barplot(x='smoker', y='charges', data=data)"
   ]
  },
  {
   "cell_type": "code",
   "execution_count": null,
   "id": "89478d68-1ef7-4a1e-ba66-80b0c9116862",
   "metadata": {},
   "outputs": [],
   "source": [
    "sns.barplot(x = 'sex', y = 'charges', data = data)"
   ]
  },
  {
   "cell_type": "code",
   "execution_count": null,
   "id": "adefef6d-1afc-41fd-90ee-842397ee22eb",
   "metadata": {},
   "outputs": [],
   "source": [
    "sns.countplot(x = 'region', hue ='smoker', data = data)"
   ]
  },
  {
   "cell_type": "code",
   "execution_count": null,
   "id": "eabd2171-42fa-4641-b88c-78a3f23a27fa",
   "metadata": {},
   "outputs": [],
   "source": [
    "sns.countplot(x='sex', hue='smoker', data=data)\n",
    "plt.title('Smoker Distribution by Sex')\n",
    "plt.ylabel('Count')\n",
    "plt.xlabel('Sex')\n",
    "plt.legend(title='Smoker')\n",
    "plt.show()"
   ]
  },
  {
   "cell_type": "markdown",
   "id": "cf60f0f2-ab41-402d-aea6-21a5fb388765",
   "metadata": {},
   "source": [
    "## MultiVariate Analysis :-"
   ]
  },
  {
   "cell_type": "code",
   "execution_count": null,
   "id": "977022b4-1294-4bd7-a0d2-234ceca2a85e",
   "metadata": {},
   "outputs": [],
   "source": []
  },
  {
   "cell_type": "code",
   "execution_count": null,
   "id": "b3e1caf6-5c37-402c-a573-54cce0bbc607",
   "metadata": {},
   "outputs": [],
   "source": []
  },
  {
   "cell_type": "markdown",
   "id": "87219356-d838-476b-8d7c-cd182d7739c3",
   "metadata": {},
   "source": [
    "# Data PreProcessing :-"
   ]
  },
  {
   "cell_type": "code",
   "execution_count": null,
   "id": "2c6f2eb6-b22c-4719-8517-0559c8d70ca3",
   "metadata": {},
   "outputs": [],
   "source": [
    "# Encoding :-"
   ]
  },
  {
   "cell_type": "code",
   "execution_count": null,
   "id": "c6d1fdd0-13f3-49c7-9a69-b2f9bf24bfaa",
   "metadata": {},
   "outputs": [],
   "source": [
    "# LabelEncoder - sex, smoker\n",
    "# OHE - region"
   ]
  },
  {
   "cell_type": "code",
   "execution_count": null,
   "id": "e85f4da5-1ea8-494a-a83c-76466f66646b",
   "metadata": {},
   "outputs": [],
   "source": [
    "# Applying Label Encoding on Sex & Smoker"
   ]
  },
  {
   "cell_type": "code",
   "execution_count": null,
   "id": "28264dfc-be01-449e-aa7a-5474c729f437",
   "metadata": {},
   "outputs": [],
   "source": [
    "from sklearn.preprocessing import LabelEncoder\n",
    "le = LabelEncoder()"
   ]
  },
  {
   "cell_type": "code",
   "execution_count": null,
   "id": "909613c1-015b-43a5-87fa-c7d05a41d9a9",
   "metadata": {},
   "outputs": [],
   "source": [
    "data['sex'] = data['sex'].map({'male': 1, 'female': 0})\n",
    "data['smoker'] = data['smoker'].map({'yes': 1, 'no': 0})"
   ]
  },
  {
   "cell_type": "code",
   "execution_count": null,
   "id": "dd333768-57d6-4396-aea0-fae4d24339c4",
   "metadata": {},
   "outputs": [],
   "source": [
    "data"
   ]
  },
  {
   "cell_type": "code",
   "execution_count": null,
   "id": "202cc666-0cc8-453d-900f-e18d4128a326",
   "metadata": {},
   "outputs": [],
   "source": [
    "# Applying One hot Encoding using get dummies on region column"
   ]
  },
  {
   "cell_type": "code",
   "execution_count": null,
   "id": "08399c4f-e8de-4e8a-bd01-f84b1dc8e792",
   "metadata": {},
   "outputs": [],
   "source": [
    "data['region'].value_counts()"
   ]
  },
  {
   "cell_type": "code",
   "execution_count": null,
   "id": "2c7fbba8-fab3-4df7-8a4f-dadaf9e5fccb",
   "metadata": {},
   "outputs": [],
   "source": [
    "data = pd.get_dummies(data, columns=['region'], drop_first=False,dtype=int)"
   ]
  },
  {
   "cell_type": "code",
   "execution_count": null,
   "id": "c90fcd37-6514-4ff1-9e0a-1fd5c0cb219d",
   "metadata": {},
   "outputs": [],
   "source": [
    "data"
   ]
  },
  {
   "cell_type": "code",
   "execution_count": null,
   "id": "bacc539b-a839-4af8-b618-ac24f78a1d7e",
   "metadata": {},
   "outputs": [],
   "source": [
    "import seaborn as sns\n",
    "import matplotlib.pyplot as plt\n",
    "\n",
    "# 1. Calculate correlation\n",
    "corr = data.corr()\n",
    "\n",
    "# 2. Plot heatmap\n",
    "plt.figure(figsize=(10,6))\n",
    "sns.heatmap(corr, annot=True, cmap='coolwarm', fmt=\".2f\", linewidths=0.5)\n",
    "plt.title(\"Correlation Heatmap\", fontsize=16)\n",
    "plt.show()\n"
   ]
  },
  {
   "cell_type": "code",
   "execution_count": null,
   "id": "3b144fc6-d252-4adf-ac8c-a53fcca1d76a",
   "metadata": {},
   "outputs": [],
   "source": [
    "# Let's do scaling : -MinMax or std Scaling on bmi & charges"
   ]
  },
  {
   "cell_type": "code",
   "execution_count": null,
   "id": "f715a0fb-ccc3-4794-a029-c6b4ea6cc574",
   "metadata": {},
   "outputs": [],
   "source": [
    "data['bmi'].value_counts() # Continous"
   ]
  },
  {
   "cell_type": "code",
   "execution_count": null,
   "id": "f978c9dd-0767-41b7-ad15-02aa3d508000",
   "metadata": {},
   "outputs": [],
   "source": [
    "data['charges'].value_counts() # Continous"
   ]
  },
  {
   "cell_type": "markdown",
   "id": "6ef0d098-6c03-4e40-a0f2-ce7d04c09edb",
   "metadata": {},
   "source": [
    "## Understand the things perfectly now"
   ]
  },
  {
   "cell_type": "code",
   "execution_count": null,
   "id": "ab931a2b-5742-4580-b895-507c71ab8b22",
   "metadata": {},
   "outputs": [],
   "source": [
    "from sklearn.model_selection import train_test_split\n",
    "from sklearn.preprocessing import StandardScaler"
   ]
  },
  {
   "cell_type": "code",
   "execution_count": null,
   "id": "553fe17d-94a3-4f43-a8fd-60235d451e2b",
   "metadata": {},
   "outputs": [],
   "source": [
    "x = data[['age', 'bmi', 'smoker', 'region_southeast', 'region_northeast','children','sex','region_northwest']]\n",
    "y = data['charges']"
   ]
  },
  {
   "cell_type": "code",
   "execution_count": null,
   "id": "a60354ae-1214-42fa-99ce-04d71e36ef9b",
   "metadata": {},
   "outputs": [],
   "source": [
    "x"
   ]
  },
  {
   "cell_type": "code",
   "execution_count": null,
   "id": "80d14a01-917b-42ac-ac0f-aaef626ddf2b",
   "metadata": {},
   "outputs": [],
   "source": [
    "y"
   ]
  },
  {
   "cell_type": "code",
   "execution_count": null,
   "id": "fc7b4d95-269f-4537-bb79-4dddab24b65a",
   "metadata": {},
   "outputs": [],
   "source": [
    "y_log = np.log1p(y)"
   ]
  },
  {
   "cell_type": "code",
   "execution_count": null,
   "id": "a7fe778c-3fa9-499a-8c29-28894aeadf0d",
   "metadata": {},
   "outputs": [],
   "source": [
    "x_train, x_test, y_train_log, y_test_log = train_test_split(x, y_log, test_size=0.2, random_state=42)"
   ]
  },
  {
   "cell_type": "code",
   "execution_count": null,
   "id": "638f82f7-0bcc-4034-8f3b-26c31185421c",
   "metadata": {},
   "outputs": [],
   "source": []
  },
  {
   "cell_type": "markdown",
   "id": "3012190c-4734-4d0e-aae8-f326c3a6b262",
   "metadata": {},
   "source": [
    "# Apply Standard Scaling on x Train & x_Test"
   ]
  },
  {
   "cell_type": "code",
   "execution_count": null,
   "id": "48572524-a2be-4abb-950f-712c84015c03",
   "metadata": {},
   "outputs": [],
   "source": [
    "scaler = StandardScaler()"
   ]
  },
  {
   "cell_type": "code",
   "execution_count": null,
   "id": "90741db4-2b64-4581-858c-bd67e4c78f42",
   "metadata": {},
   "outputs": [],
   "source": [
    "x_train_scaled = scaler.fit_transform(x_train)\n",
    "x_test_scaled = scaler.transform(x_test)"
   ]
  },
  {
   "cell_type": "code",
   "execution_count": null,
   "id": "3321581c-736c-45f3-ae33-43218a70bfbe",
   "metadata": {},
   "outputs": [],
   "source": []
  },
  {
   "cell_type": "markdown",
   "id": "129e3439-226b-46a3-b31f-5e8d4e7f6554",
   "metadata": {},
   "source": [
    "# Model Building :-"
   ]
  },
  {
   "cell_type": "code",
   "execution_count": null,
   "id": "9e6b1134-b57c-410c-a5b8-39040433fb5a",
   "metadata": {},
   "outputs": [],
   "source": [
    "from sklearn.ensemble import GradientBoostingRegressor\n",
    "\n",
    "gb = GradientBoostingRegressor(\n",
    "    n_estimators=100,         # Total number of boosting stages\n",
    "    learning_rate=0.05,       # Step size shrinkage\n",
    "    max_depth=3,              # Max depth of each regression tree\n",
    "    subsample=0.7,            # Fraction of samples for fitting base learners\n",
    "    min_samples_split=2,      # Min samples to split a node\n",
    "    min_samples_leaf=1,       # Min samples required at a leaf node\n",
    "    max_features='sqrt',      # Number of features to consider when looking for best split\n",
    "    loss='squared_error',     # Could be: 'squared_error', 'absolute_error', etc.\n",
    "    random_state=42\n",
    ")"
   ]
  },
  {
   "cell_type": "code",
   "execution_count": null,
   "id": "19fa4395-7771-4406-8f15-47124e8fae78",
   "metadata": {},
   "outputs": [],
   "source": [
    "gb.fit(x_train_scaled,y_train_log)"
   ]
  },
  {
   "cell_type": "code",
   "execution_count": null,
   "id": "fb1f175a-b53e-470c-b14d-76144fda0c41",
   "metadata": {},
   "outputs": [],
   "source": [
    "# Time to Predict :-"
   ]
  },
  {
   "cell_type": "code",
   "execution_count": null,
   "id": "36314483-1bff-4a72-a1a5-b913032c5c1a",
   "metadata": {},
   "outputs": [],
   "source": [
    "y_pred = gb.predict(x_test_scaled)"
   ]
  },
  {
   "cell_type": "code",
   "execution_count": null,
   "id": "6396a274-966a-462d-924e-0b00501f3f4d",
   "metadata": {},
   "outputs": [],
   "source": [
    "y_pred"
   ]
  },
  {
   "cell_type": "code",
   "execution_count": null,
   "id": "ded8904f-39b9-47b3-b6c4-33554acac980",
   "metadata": {},
   "outputs": [],
   "source": [
    "y_test_log"
   ]
  },
  {
   "cell_type": "code",
   "execution_count": null,
   "id": "0207d31c-a04d-47cf-bd7d-7665557eeeee",
   "metadata": {},
   "outputs": [],
   "source": []
  },
  {
   "cell_type": "markdown",
   "id": "0ede6ff9-f4f4-4321-8f70-9ab165d08b46",
   "metadata": {},
   "source": [
    "## Evaluation Begins :-"
   ]
  },
  {
   "cell_type": "code",
   "execution_count": null,
   "id": "115249c3-28ff-40ec-a2cd-b0ea21dcc3f2",
   "metadata": {},
   "outputs": [],
   "source": [
    "from sklearn.metrics import r2_score,mean_absolute_error, mean_squared_error"
   ]
  },
  {
   "cell_type": "code",
   "execution_count": null,
   "id": "2eb9e865-2fdc-4427-9555-558b84850b42",
   "metadata": {},
   "outputs": [],
   "source": [
    "# Testing Accuracy :-"
   ]
  },
  {
   "cell_type": "code",
   "execution_count": null,
   "id": "dea2f52d-eaff-4c8d-aa45-a51893c24159",
   "metadata": {},
   "outputs": [],
   "source": [
    "r2_score(y_test_log, y_pred)"
   ]
  },
  {
   "cell_type": "code",
   "execution_count": null,
   "id": "fc68acd6-a15d-45e6-b766-9d91eb1cd7f7",
   "metadata": {},
   "outputs": [],
   "source": []
  },
  {
   "cell_type": "code",
   "execution_count": 103,
   "id": "a015ebe6-33cd-4cd3-a1a7-15393de63528",
   "metadata": {},
   "outputs": [],
   "source": [
    "# Training Accuracy :-"
   ]
  },
  {
   "cell_type": "code",
   "execution_count": 105,
   "id": "439494fe-84e2-43ab-83c2-2ced3603a54b",
   "metadata": {},
   "outputs": [],
   "source": [
    "train_pred = gb.predict(x_train_scaled)"
   ]
  },
  {
   "cell_type": "code",
   "execution_count": 106,
   "id": "34172f5a-2a8a-4b98-99a6-af2576c6f899",
   "metadata": {},
   "outputs": [
    {
     "data": {
      "text/plain": [
       "array([ 9.17128026,  9.10064417,  9.23345517, ...,  9.28880454,\n",
       "       10.36093937,  9.28738207])"
      ]
     },
     "execution_count": 106,
     "metadata": {},
     "output_type": "execute_result"
    }
   ],
   "source": [
    "train_pred"
   ]
  },
  {
   "cell_type": "code",
   "execution_count": 107,
   "id": "9d668f2d-cc0b-460d-81fd-0e352bb03825",
   "metadata": {},
   "outputs": [
    {
     "data": {
      "text/plain": [
       "560      9.126398\n",
       "1285     9.052009\n",
       "1142    10.207990\n",
       "969      9.059265\n",
       "486      9.431590\n",
       "          ...    \n",
       "1095     8.425558\n",
       "1130     9.057574\n",
       "1294     9.386990\n",
       "860     10.738883\n",
       "1126     9.231675\n",
       "Name: charges, Length: 1070, dtype: float64"
      ]
     },
     "execution_count": 107,
     "metadata": {},
     "output_type": "execute_result"
    }
   ],
   "source": [
    "y_train_log"
   ]
  },
  {
   "cell_type": "code",
   "execution_count": 108,
   "id": "cbb29a18-1290-4162-9dcd-cbbe0a069cc8",
   "metadata": {},
   "outputs": [
    {
     "data": {
      "text/plain": [
       "0.8366168749538254"
      ]
     },
     "execution_count": 108,
     "metadata": {},
     "output_type": "execute_result"
    }
   ],
   "source": [
    "r2_score(y_train_log, train_pred)"
   ]
  },
  {
   "cell_type": "markdown",
   "id": "8d3152ca-ddba-4e60-867d-a5b04fcadc1b",
   "metadata": {},
   "source": [
    "## Cross Validation Score :- "
   ]
  },
  {
   "cell_type": "code",
   "execution_count": 111,
   "id": "e9504578-865b-4a2f-8d1f-414638d4ea31",
   "metadata": {},
   "outputs": [
    {
     "name": "stdout",
     "output_type": "stream",
     "text": [
      "Cross-validation scores (R²): [0.79280489 0.89540866 0.7848342  0.78507587 0.81901813]\n",
      "Mean CV R²: 0.8154283507092682\n",
      "Standard Deviation: 0.04190186917003371\n"
     ]
    }
   ],
   "source": [
    "from sklearn.model_selection import cross_val_score\n",
    "\n",
    "# Create the model\n",
    "gb = GradientBoostingRegressor(n_estimators=100, random_state=42)\n",
    "\n",
    "# Perform cross-validation (let's use 5 folds)\n",
    "scores = cross_val_score(gb, x_train_scaled, y_train_log, cv=5, scoring='r2')\n",
    "\n",
    "# Print each fold's score\n",
    "print(\"Cross-validation scores (R²):\", scores)\n",
    "\n",
    "# Mean and standard deviation\n",
    "print(\"Mean CV R²:\", np.mean(scores))\n",
    "print(\"Standard Deviation:\", np.std(scores))"
   ]
  },
  {
   "cell_type": "code",
   "execution_count": null,
   "id": "a27a845a-cd76-4f06-834e-120af839b77c",
   "metadata": {},
   "outputs": [],
   "source": []
  },
  {
   "cell_type": "markdown",
   "id": "8b8ab761-21bf-481a-8139-d2f5a175343d",
   "metadata": {},
   "source": [
    "## HyperParameter or Fine Tuning :-"
   ]
  },
  {
   "cell_type": "code",
   "execution_count": 112,
   "id": "e9f50066-aeba-41d8-91b4-008a2b5929ba",
   "metadata": {},
   "outputs": [],
   "source": [
    "from sklearn.model_selection import GridSearchCV"
   ]
  },
  {
   "cell_type": "code",
   "execution_count": null,
   "id": "455ce264-318b-4117-8924-b6ce7863caa4",
   "metadata": {},
   "outputs": [
    {
     "name": "stdout",
     "output_type": "stream",
     "text": [
      "Fitting 5 folds for each of 4374 candidates, totalling 21870 fits\n"
     ]
    }
   ],
   "source": [
    "# from sklearn.model_selection import GridSearchCV\n",
    "# from sklearn.ensemble import GradientBoostingRegressor\n",
    "\n",
    "# param_grid = {\n",
    "#     'n_estimators': [100, 200, 300],\n",
    "#     'max_depth': [3, 5, 7],\n",
    "#     'learning_rate': [0.01, 0.05, 0.1],\n",
    "#     'subsample': [0.6, 0.8, 1.0],\n",
    "#     'min_samples_split': [2, 4, 6],\n",
    "#     'min_samples_leaf': [1, 2, 4],\n",
    "#     'max_features': ['sqrt', 'log2', None],\n",
    "#     'loss': ['squared_error', 'absolute_error']\n",
    "# }\n",
    "\n",
    "# gb = GradientBoostingRegressor(random_state=42)\n",
    "\n",
    "# grid = GridSearchCV(\n",
    "#     estimator=gb,\n",
    "#     param_grid=param_grid,\n",
    "#     cv=5,\n",
    "#     scoring='r2',\n",
    "#     n_jobs=-1,\n",
    "#     verbose=1\n",
    "# )\n",
    "\n",
    "# grid.fit(x_train_scaled, y_train_log)\n",
    "\n",
    "# print(\"Best parameters:\", grid.best_params_)\n",
    "# print(\"Best CV score:\", grid.best_score_)"
   ]
  },
  {
   "cell_type": "code",
   "execution_count": null,
   "id": "1f44a399-f4a1-417f-91ae-e07a51bc251e",
   "metadata": {},
   "outputs": [],
   "source": []
  }
 ],
 "metadata": {
  "kernelspec": {
   "display_name": "Python 3 (ipykernel)",
   "language": "python",
   "name": "python3"
  },
  "language_info": {
   "codemirror_mode": {
    "name": "ipython",
    "version": 3
   },
   "file_extension": ".py",
   "mimetype": "text/x-python",
   "name": "python",
   "nbconvert_exporter": "python",
   "pygments_lexer": "ipython3",
   "version": "3.12.7"
  }
 },
 "nbformat": 4,
 "nbformat_minor": 5
}
